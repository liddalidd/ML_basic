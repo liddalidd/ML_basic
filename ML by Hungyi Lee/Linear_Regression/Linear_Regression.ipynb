{
 "cells": [
  {
   "cell_type": "markdown",
   "metadata": {},
   "source": [
    "# Linear Regression  \n",
    "#### 1.Model:  \n",
    ">$h_w(x^i)=w_0+w_1x_1+\\cdots+w_nx_n$\n",
    "\n",
    ">$\\hat{y}=w^Tx_i=W^TX$\n",
    "\n",
    "$W^T=\\begin{bmatrix}{w_0}&{w_1}&{\\cdots}&{w_n}\\\\ \\end{bmatrix}$\n",
    "\n",
    "$X=\\begin{bmatrix}\n",
    "{1}&{x_1^1}&{x_2^1}&{\\cdots}&{x_n^1}\\\\\n",
    "{1}&{x_1^2}&{x_2^2}&{\\cdots}&{x_n^2}\\\\\n",
    "{\\vdots}& ;{\\vdots}&{\\vdots}&{\\ddots}&{\\vdots}\\\\\n",
    "{1}&{x_1^n}&{x_2^n}&{\\cdots}&{x_n^n}\\\\\n",
    "\\end{bmatrix}$\n",
    "$XW=h_w(x^i)$\n",
    "\n",
    "#### 2. Loss function:\n",
    "$J_{(w)}=\\frac{1} {2M}\\sum_{i=1}^m(h_w(x^i)-y^i)^2$\n",
    "\n",
    "- the normal equation(close-form solution) : $w=(X^TX)^{-1}X^Ty$\n",
    "- ##### gradient descent:\n",
    "$ \\frac{\\partial J}{\\partial w_j} = \\frac{1}{m}\\sum_{i=1}^m \\Big( \\hat{y}^{(i)} - y^{(i)} \\Big) x^{(i)}_j$\n",
    "The gradient containing all partial derivatives can then be computed as follows:\n",
    "\n",
    "$\\nabla_{\\boldsymbol{w}} J = \\frac{1}{m} \\boldsymbol{X}^T \\cdot \\big(\\boldsymbol{\\hat{y}} - \\boldsymbol{y} \\big)$ ,  $\\boldsymbol{w} = \\boldsymbol{w} - \\eta \\, \\nabla_w J$\n",
    "\n",
    "\n",
    "## Optimization:\n",
    "- Adagrad\n",
    "- Nesterov Momentum\n",
    "- Adam\n",
    "\n",
    "#### Adagrad:\n",
    "(need large learning rate)\n",
    "\n",
    "$\\theta_{t+1,i}=\\theta_{t,i}-\\frac {\\eta} {\\sqrt{G_{t,ii}+\\epsilon}} g_{t,i}$ ,  $G_{t,ii}\\in \\mathbb{R}^{d*d}$ is a diagonal matrix where each diagonal element i,i is the sum of the squares of the gradients w.r.t. $\\theta_i$ up to time step t,$\\epsilon$ usually on the order of $10^{-8}$ $ g_{t,i} = \\nabla_{\\boldsymbol{\\theta}} J(\\theta_i)$\n",
    "#### Nesterov Momentum:  \n",
    "$v_t= \\gamma v_t+ \\eta \\nabla_{\\boldsymbol{\\theta}}J(\\theta -\\gamma v_{t-1}) $  \n",
    "$\\theta = \\theta - v_t$\n",
    " \n",
    "#### Adam:  \n",
    "$ m_t=\\beta_1 m_{t-1}+(1-\\beta_1)g_t $  \n",
    "$ v_t=\\beta_2 v_{t-1}+(1-\\beta_2)g_t^2 $  \n",
    "$ \\hat{m}_t = \\frac {m_t} {1-\\beta_1^t} $    \n",
    "$ \\hat{v}_t = \\frac {v_t} {1-\\beta_2^t} $  \n",
    "$ \\theta_{t+1} = \\theta_t -\\frac {\\eta} {\\sqrt{v_t +\\epsilon}} \\hat{m}_t $\n",
    " \n",
    "#### 3. Data:\n",
    "predict PM 2.5\n",
    "\n",
    "> [train.csv](https://github.com/liddalidd/ML_basic/blob/master/ML%20by%20Hungyi%20Lee/Linear_Regression/train.csv)  \n",
    "> [test.csv](https://github.com/liddalidd/ML_basic/blob/master/ML%20by%20Hungyi%20Lee/Linear_Regression/test.csv)"
   ]
  },
  {
   "cell_type": "code",
   "execution_count": 2,
   "metadata": {},
   "outputs": [
    {
     "name": "stderr",
     "output_type": "stream",
     "text": [
      "D:\\Software\\Anaconda\\envs\\Tensorflow\\lib\\site-packages\\pandas\\core\\frame.py:3940: SettingWithCopyWarning: \n",
      "A value is trying to be set on a copy of a slice from a DataFrame\n",
      "\n",
      "See the caveats in the documentation: http://pandas.pydata.org/pandas-docs/stable/indexing.html#indexing-view-versus-copy\n",
      "  errors=errors)\n"
     ]
    }
   ],
   "source": [
    "import pandas as pd\n",
    "\n",
    "import numpy as np\n",
    "from pandas import DataFrame \n",
    "import matplotlib.pyplot as plt\n",
    "\n",
    "\n",
    "train=pd.read_csv(\"train.csv\");\n",
    "# pm=train[train[\"\"]]\n",
    "pm=train[train[\"testmaterial\"]==\"PM2.5\"]#find all PM2.5 data no.240\n",
    "pm.drop(['date','station','testmaterial'],axis=1,inplace=True)\n",
    "x=[] \n",
    "y=[]\n",
    "for i in range(15): \n",
    "    temx=pm.iloc[:,i:i+9]\n",
    "    temx.columns=np.array(range(9))\n",
    "    temy=pm.iloc[:,i+9]\n",
    "    temy.columns=np.array(range(1))\n",
    "    x.append(temx)\n",
    "    y.append(temy)\n",
    "\n",
    "\n",
    "x=pd.concat(x)#3600x9,3600=240x15, x:dataframe\n",
    "y=pd.concat(y)#3600x1 ,y:serise\n",
    "x=np.array(x,float)\n",
    "y=np.array(y,float)\n",
    "np.save(\"x.npy\",x)\n",
    "np.save(\"y.npy\",y)"
   ]
  },
  {
   "cell_type": "code",
   "execution_count": 3,
   "metadata": {},
   "outputs": [],
   "source": [
    "x=np.load(\"x.npy\")\n",
    "y=np.load(\"y.npy\")\n",
    "#adding baias\n",
    "x = np.concatenate((np.ones((x.shape[0],1)),x), axis=1)#x.shape 3600*10\n",
    "\n",
    "m=x.shape[0]"
   ]
  },
  {
   "cell_type": "code",
   "execution_count": 5,
   "metadata": {},
   "outputs": [
    {
     "name": "stdout",
     "output_type": "stream",
     "text": [
      "75.0848837986519\n"
     ]
    },
    {
     "data": {
      "text/plain": [
       "[<matplotlib.lines.Line2D at 0x2b4834836a0>]"
      ]
     },
     "execution_count": 5,
     "metadata": {},
     "output_type": "execute_result"
    },
    {
     "data": {
      "image/png": "[encoded data removed]",
      "text/plain": [
       "<Figure size 432x288 with 1 Axes>"
      ]
     },
     "metadata": {
      "needs_background": "light"
     },
     "output_type": "display_data"
    }
   ],
   "source": [
    "\n",
    "# Gradient Descent \n",
    " \n",
    "\n",
    "l_rate = 0.0000003\n",
    "repeat = 500\n",
    "\n",
    "costs_gd=[] \n",
    "w_gd = np.zeros(len(x[0])) \n",
    "\n",
    "for i in range(repeat):\n",
    "    y_pred=np.dot(x,w_gd)\n",
    "    \n",
    "    cost=(1/(2*m))*np.sum(((y_pred-y)**2))\n",
    "    costs_gd.append(cost)\n",
    "    d_w=(1/m)*np.sum(np.dot(x.T,(y_pred-y))) \n",
    "    w_gd=w_gd-l_rate*d_w \n",
    " \n",
    "np.save(\"model.npy\",w_gd)\n",
    "print(costs_gd[-1])\n",
    "plt.plot(np.arange(repeat), costs_gd)   "
   ]
  },
  {
   "cell_type": "markdown",
   "metadata": {},
   "source": [
    "#### Adagrad: \n",
    " \n",
    "$\\theta_{t+1,i}=\\theta_{t,i}-\\frac {\\eta} {\\sqrt{G_{t,ii}+\\epsilon}} g_{t,i}$  "
   ]
  },
  {
   "cell_type": "code",
   "execution_count": 7,
   "metadata": {},
   "outputs": [
    {
     "name": "stdout",
     "output_type": "stream",
     "text": [
      "55.00533705452421\n"
     ]
    },
    {
     "data": {
      "text/plain": [
       "[<matplotlib.lines.Line2D at 0x2b483524ba8>]"
      ]
     },
     "execution_count": 7,
     "metadata": {},
     "output_type": "execute_result"
    },
    {
     "data": {
      "image/png": "[encoded data removed]",
      "text/plain": [
       "<Figure size 432x288 with 1 Axes>"
      ]
     },
     "metadata": {
      "needs_background": "light"
     },
     "output_type": "display_data"
    }
   ],
   "source": [
    "\n",
    "# train Adagrad\n",
    "l_rate = 0.01\n",
    "repeat = 500\n",
    "\n",
    "costs_ada=[]\n",
    "w_ada = np.zeros(len(x[0]))#10*1\n",
    "s_grad=np.zeros(len(x[0]))\n",
    "\n",
    "for i in range(repeat):\n",
    "    tem=np.dot(x,w_ada)\n",
    "    loss=tem-y    \n",
    "    cost=(1/(2*m))*np.sum((loss**2))\n",
    "    costs_ada.append(cost)\n",
    "    grad=np.dot(x.T,loss)\n",
    "    s_grad+=grad**2\n",
    "    ada=(np.sqrt(s_grad)+1e-8)\n",
    "    w_ada=w_ada-l_rate*grad/ada\n",
    "    \n",
    "\n",
    "np.save(\"model.npy\",w_ada)\n",
    "print(costs_ada[-1])\n",
    "plt.plot(np.arange(repeat),costs_ada)"
   ]
  },
  {
   "cell_type": "markdown",
   "metadata": {},
   "source": [
    "#### Nesterov Momentum:  \n",
    "$v_t= \\gamma v_t+ \\eta \\nabla_{\\boldsymbol{\\theta}}J(\\theta -\\gamma v_{t-1}) $  \n",
    "$\\theta = \\theta - v_t$\n",
    "\n",
    "#### GD with Momentum:\n",
    "$v_t= \\gamma v_t+ \\eta \\nabla_{\\boldsymbol{\\theta}}J(\\theta) $  \n",
    "$\\theta = \\theta - v_t$"
   ]
  },
  {
   "cell_type": "code",
   "execution_count": 8,
   "metadata": {},
   "outputs": [
    {
     "name": "stdout",
     "output_type": "stream",
     "text": [
      "22.074835998674143\n"
     ]
    },
    {
     "data": {
      "text/plain": [
       "[<matplotlib.lines.Line2D at 0x2b483590d30>]"
      ]
     },
     "execution_count": 8,
     "metadata": {},
     "output_type": "execute_result"
    },
    {
     "data": {
      "image/png": "[encoded data removed]",
      "text/plain": [
       "<Figure size 432x288 with 1 Axes>"
      ]
     },
     "metadata": {
      "needs_background": "light"
     },
     "output_type": "display_data"
    }
   ],
   "source": [
    "#train GDM  \n",
    "l_rate = 0.0001\n",
    "repeat = 500\n",
    "\n",
    "r=0.9\n",
    "v_w=0\n",
    "costs_nm = []\n",
    "w_nm = np.zeros(len(x[0])) \n",
    "\n",
    "for i in range(repeat):\n",
    "    y_p=np.dot(x,w_nm)\n",
    "    cost=(1/(2*m))*np.sum((y_p-y) ** 2)\n",
    "    costs_nm.append(cost)\n",
    "    \n",
    "    grad_w=(1/m)*np.dot(x.T,(y_p-y))\n",
    "    v_w=r*v_w+l_rate*grad_w \n",
    "    w_nm=w_nm-v_w \n",
    " \n",
    "np.save(\"model.npy\",w_nm)\n",
    " \n",
    "print(costs_nm[-1])\n",
    "plt.plot(np.arange(repeat),costs_nm)"
   ]
  },
  {
   "cell_type": "markdown",
   "metadata": {},
   "source": [
    "\n",
    "#### Adam:  \n",
    "\n",
    "$m_t=\\beta_1 m_{t-1}+(1-\\beta_1)g_t$  \n",
    "$v_t=\\beta_2 v_{t-1}+(1-\\beta_2)g_t^2 $  \n",
    "$ \\hat{m}_t = \\frac {m_t} {1-\\beta_1^t} $    \n",
    "$ \\hat{v}_t = \\frac {v_t} {1-\\beta_2^t} $  \n",
    "$ \\theta_{t+1} = \\theta_t -\\frac {\\eta} {\\sqrt{v_t +\\epsilon}} \\hat{m}_t $\n",
    " "
   ]
  },
  {
   "cell_type": "code",
   "execution_count": 9,
   "metadata": {},
   "outputs": [
    {
     "name": "stdout",
     "output_type": "stream",
     "text": [
      "150.16973165874853\n"
     ]
    },
    {
     "data": {
      "image/png": "[encoded data removed]",
      "text/plain": [
       "<Figure size 432x288 with 1 Axes>"
      ]
     },
     "metadata": {
      "needs_background": "light"
     },
     "output_type": "display_data"
    }
   ],
   "source": [
    "# Adam \n",
    "\n",
    "l_rate=0.001\n",
    "repeat=500\n",
    "\n",
    "m_w,m_b,v_w,v_b=0,0,0,0 \n",
    "p1=0.9\n",
    "p2=0.999\n",
    "e=1e-8\n",
    "\n",
    "costs_adam = []\n",
    "w_adam = np.zeros(len(x[0])) \n",
    "#Train Adam    \n",
    "for i in range(repeat):\n",
    "    y_p=np.dot(x,w_adam)\n",
    "    cost=(1/m)*np.sum(((y_p-y)**2))\n",
    "    costs_adam.append(cost)\n",
    "    \n",
    "    d_w=(2/m)*np.sum(np.dot(x.T,(y_p-y))) \n",
    "    \n",
    "    m_w=m_w*p1+(1-p1)*d_w\n",
    "    v_w=v_w*p2+(1-p2)*(d_w**2)\n",
    "    m_w_t=m_w/(1-p1)\n",
    "    v_w_t=v_w/(1-p2)\n",
    "    w_adam=w_adam-l_rate*m_w_t/(np.sqrt(v_w_t)+e)\n",
    "     \n",
    "    \n",
    "np.save(\"model.npy\",w_adam)\n",
    "plt.plot(np.arange(repeat), costs_adam)\n",
    "print(costs_adam[-1])"
   ]
  },
  {
   "cell_type": "code",
   "execution_count": 34,
   "metadata": {},
   "outputs": [
    {
     "data": {
      "image/png": "[encoded data removed]",
      "text/plain": [
       "<Figure size 720x432 with 1 Axes>"
      ]
     },
     "metadata": {
      "needs_background": "light"
     },
     "output_type": "display_data"
    }
   ],
   "source": [
    "\n",
    "fig = plt.figure(figsize=(10,6)) \n",
    "plt.plot(np.arange(repeat), costs_ada, label='costs_ada')\n",
    "plt.plot(np.arange(repeat), costs_adam, label='costs_adam')\n",
    "plt.plot(np.arange(repeat), costs_nm, label='costs_nm')\n",
    "plt.plot(np.arange(repeat), costs_gd, label='costs_gd')\n",
    "\n",
    "legend = plt.legend(loc='best')\n",
    "plt.title(\"Dataset\")\n",
    "plt.xlabel(\"times\")\n",
    "plt.ylabel(\"costs\")\n",
    "plt.show()"
   ]
  },
  {
   "cell_type": "code",
   "execution_count": 32,
   "metadata": {},
   "outputs": [
    {
     "name": "stdout",
     "output_type": "stream",
     "text": [
      "[ 28.41726154  65.05156257  27.61838271  47.36210257  12.43968477\n",
      "  29.90089367  54.43788657  19.40134322  65.96456696  18.37421329\n",
      "  34.12353896  43.13945728  57.51927638  30.92802361  65.39393922\n",
      "  21.79797974  49.3022369   37.66143096  17.11883226  15.17869793\n",
      "   6.73340735  21.11322645  39.60156528  49.53048799  52.95425444\n",
      "  20.08609651  19.05896658  18.71658993  21.68385419  16.66233006\n",
      "  14.49394464   9.35829497  20.9991009   31.49865135  30.35739587\n",
      "  37.09080322  36.06367328  31.72690245   2.16838542  27.8466338\n",
      "  26.47712722  42.91120619  45.65021935  27.16188051  17.34708335\n",
      "  56.60627199  58.77465741  46.44909819  31.27040025  16.20582787\n",
      "  46.79147483  28.53138709  28.18901045  26.93362942  35.1506689\n",
      "  36.06367328  30.12914477  31.1562747   32.41165574  49.87286464\n",
      "  10.613676    47.01972593  32.63990683  43.25358283  41.19932296\n",
      "  30.92802361  39.03093754  48.16098141  32.75403238  45.87847044\n",
      "  63.2255538   59.6876618   50.10111573   5.82040297  16.31995342\n",
      "  52.95425444  56.03564425  11.64080593  63.68205599  41.08519741\n",
      "  13.58094026  16.89058116   8.44529058  27.39013161  18.14596219\n",
      "   9.58654606  11.07017819  18.71658993  25.10762064  23.39573742\n",
      "  13.23856361  10.49955045  23.73811406  10.72780155  20.7708498\n",
      "  25.79237393  15.52107458   6.8475329    7.075784    14.83632129\n",
      "  12.43968477  18.60246438   9.35829497   6.16277961  18.14596219\n",
      "  18.48833884  25.67824838  19.74371987  17.80358555  10.49955045\n",
      "  17.00470671  19.17309213  13.6950658   16.66233006  24.99349509\n",
      "  13.6950658   22.71098413  22.71098413  47.24797702  10.72780155\n",
      "   5.36390077  17.4612089    7.98878839  13.23856361   8.44529058\n",
      "  22.48273303  26.47712722   9.35829497  21.34147755  11.75493148\n",
      "   8.10291393  23.05336077  27.16188051  62.42667496  28.53138709\n",
      "  20.88497535  16.77645561  28.0748849   46.56322373  51.58474786\n",
      "  17.34708335  12.09730813  20.08609651  12.09730813  25.22174619\n",
      "  12.78206142  29.78676812  12.32555922  14.03744245  14.37981909\n",
      "  17.4612089   26.93362942  19.74371987  10.3854249   21.68385419\n",
      "  27.39013161  11.64080593  23.39573742  12.43968477   7.76053729\n",
      "  47.13385148  23.16748632  55.80739315  17.57533445  30.81389806\n",
      "  24.99349509  31.841028     1.71188323  67.67645018  21.56972864\n",
      "  16.89058116  57.74752747   4.33677084   9.70067161  56.03564425\n",
      "   4.45089639  14.37981909  52.3836267   25.90649948  19.74371987\n",
      "  35.94954774  18.94484103  42.91120619  16.09170232   9.13004387\n",
      "  36.74842657  36.86255212  16.89058116  16.31995342  14.83632129\n",
      "  13.23856361   9.35829497  27.39013161  84.45290579  30.01501922\n",
      "  17.91771109  57.97577857  11.98318258  14.49394464  35.72129664\n",
      "  47.59035367  38.11793316  35.1506689   23.16748632  61.85604722\n",
      "  11.64080593  13.6950658   34.58004116  27.39013161  54.78026322\n",
      "  36.52017548  86.73541676  19.97197096 153.49886256  16.66233006\n",
      "  95.40895844  46.22084709  65.50806476  20.42847316  63.79618154\n",
      "  41.08519741  72.35559767  28.98788929  25.79237393  56.60627199\n",
      "   9.47242051  25.22174619  40.28631857  23.28161187   5.59215187\n",
      "  35.03654335  17.11883226  18.37421329  20.42847316  16.09170232\n",
      "  10.3854249    7.075784    10.72780155  29.10201483   6.04865406]\n"
     ]
    }
   ],
   "source": [
    "# model=np.load(\"model.npy\")\n",
    "test=pd.read_csv(\"test.csv\")\n",
    "t=test[test[\"testmaterial\"]==\"PM2.5\"]\n",
    "t.drop([\"date\",\"testmaterial\"],axis=1,inplace=True)\n",
    "\n",
    "t=np.array(t,float) #240*9\n",
    "t=np.concatenate((np.ones((t.shape[0],1)),t), axis=1)#240*10\n",
    "res=[]\n",
    "res=np.dot(t,w_gd)\n",
    "print(res)"
   ]
  },
  {
   "cell_type": "markdown",
   "metadata": {},
   "source": [
    "#  =======Tutorial========="
   ]
  },
  {
   "cell_type": "code",
   "execution_count": 22,
   "metadata": {},
   "outputs": [],
   "source": [
    "import sys\n",
    "import numpy as np\n",
    "import pandas as pd\n",
    "import csv\n",
    "\n",
    "\n",
    "# train=pd.read_csv(\"train.csv\");\n",
    "# raw_data = np.genfromtxt(sys.argv[1], delimiter=',') ## train.csv\n",
    "raw_data = np.genfromtxt(\"train.csv\", delimiter=',') ## train.csv\n",
    "data = raw_data[1:,3:]\n",
    "where_are_NaNs = np.isnan(data)\n",
    "data[where_are_NaNs] = 0 \n",
    "\n",
    "month_to_data = {}  ## Dictionary (key:month , value:data)                                  \n",
    "\n",
    "for month in range(12):\n",
    "    sample = np.empty(shape = (18 , 480))\n",
    "    for day in range(20):\n",
    "        for hour in range(24): \n",
    "            sample[:,day * 24 + hour] = data[18 * (month * 20 + day): 18 * (month * 20 + day + 1),hour]\n",
    "    month_to_data[month] = sample  \n"
   ]
  },
  {
   "cell_type": "code",
   "execution_count": 23,
   "metadata": {},
   "outputs": [],
   "source": [
    "# preprocess\n",
    "x = np.empty(shape = (12 * 471 , 18 * 9),dtype = float)\n",
    "y = np.empty(shape = (12 * 471 , 1),dtype = float)\n",
    "\n",
    "for month in range(12): \n",
    "    for day in range(20): \n",
    "        for hour in range(24):   \n",
    "            if day == 19 and hour > 14:\n",
    "                continue  \n",
    "            x[month * 471 + day * 24 + hour,:] = month_to_data[month][:,day * 24 + hour : day * 24 + hour + 9].reshape(1,-1) \n",
    "            y[month * 471 + day * 24 + hour,0] = month_to_data[month][9 ,day * 24 + hour + 9]\n",
    "            \n",
    "            \n",
    "# normalization\n",
    "mean = np.mean(x, axis = 0) \n",
    "std = np.std(x, axis = 0)\n",
    "for i in range(x.shape[0]):\n",
    "    for j in range(x.shape[1]):\n",
    "        if not std[j] == 0 :\n",
    "            x[i][j] = (x[i][j]- mean[j]) / std[j]"
   ]
  },
  {
   "cell_type": "markdown",
   "metadata": {},
   "source": [
    "#### Adagrad: \n",
    " \n",
    "$\\theta_{t+1,i}=\\theta_{t,i}-\\frac {\\eta} {\\sqrt{G_{t,ii}+\\epsilon}} g_{t,i}$  \n",
    "\n",
    "#### loss:\n",
    "$L_w=\\sqrt{\\frac {{(WX-Y)}^2} {n}} $"
   ]
  },
  {
   "cell_type": "code",
   "execution_count": 33,
   "metadata": {},
   "outputs": [
    {
     "name": "stdout",
     "output_type": "stream",
     "text": [
      "T= 0\n",
      "Loss: 27.071214829194115\n",
      "T= 1000\n",
      "Loss: 9.957336253580264\n",
      "T= 2000\n",
      "Loss: 6.861485712171389\n",
      "T= 3000\n",
      "Loss: 6.060560050269414\n",
      "T= 4000\n",
      "Loss: 5.819427069726108\n",
      "T= 5000\n",
      "Loss: 5.737251324218732\n",
      "T= 6000\n",
      "Loss: 5.70629462196756\n",
      "T= 7000\n",
      "Loss: 5.693596789769688\n",
      "T= 8000\n",
      "Loss: 5.687956629045994\n",
      "T= 9000\n",
      "Loss: 5.685243884510883\n"
     ]
    }
   ],
   "source": [
    "# training \n",
    "dim = x.shape[1] + 1 \n",
    "w = np.zeros(shape = (dim, 1 ))\n",
    "x = np.concatenate((np.ones((x.shape[0], 1 )), x) , axis = 1).astype(float)\n",
    "learning_rate = np.array([[200]] * dim)\n",
    "adagrad_sum = np.zeros(shape = (dim, 1 ))\n",
    " \n",
    "for T in range(10000):\n",
    "    if(T % 1000 == 0 ):\n",
    "        print(\"T=\",T)\n",
    "        print(\"Loss:\",np.power(np.sum(np.power(x.dot(w) - y, 2 ))/ x.shape[0],0.5))\n",
    "    gradient = (-2) * np.transpose(x).dot(y-x.dot(w))\n",
    "    adagrad_sum += gradient ** 2\n",
    "    w = w - learning_rate * gradient / (np.sqrt(adagrad_sum) + 0.0005)\n",
    "\n",
    "np.save('weight.npy',w)     ## save weight"
   ]
  },
  {
   "cell_type": "code",
   "execution_count": 30,
   "metadata": {},
   "outputs": [],
   "source": [
    "w = np.load('weight.npy')                                   ## load weight\n",
    "test_raw_data = np.genfromtxt(\"test.csv\", delimiter=',')   ## test.csv\n",
    "test_data = test_raw_data[:, 2: ]\n",
    "where_are_NaNs = np.isnan(test_data)\n",
    "test_data[where_are_NaNs] = 0 \n",
    "\n",
    "\n",
    "test_x = np.empty(shape = (240, 18 * 9),dtype = float)\n",
    "\n",
    "for i in range(240):\n",
    "    test_x[i,:] = test_data[18 * i : 18 * (i+1),:].reshape(1,-1) \n",
    "\n",
    "##Normalization\n",
    "for i in range(test_x.shape[0]):        \n",
    "    for j in range(test_x.shape[1]):\n",
    "        if not std[j] == 0 :\n",
    "            test_x[i][j] = (test_x[i][j]- mean[j]) / std[j]\n",
    "\n",
    "test_x = np.concatenate((np.ones(shape = (test_x.shape[0],1)),test_x),axis = 1).astype(float)\n",
    "answer = test_x.dot(w)\n",
    "\n",
    "with open(\"final.csv\",\"w\") as f:\n",
    "    w = csv.writer(f)\n",
    "    title = ['id','value']\n",
    "    w.writerow(title) \n",
    "    for i in range(240):\n",
    "        content = ['id_'+str(i),answer[i][0]]\n",
    "        w.writerow(content) "
   ]
  }
 ],
 "metadata": {
  "kernelspec": {
   "display_name": "Python 3",
   "language": "python",
   "name": "python3"
  },
  "language_info": {
   "codemirror_mode": {
    "name": "ipython",
    "version": 3
   },
   "file_extension": ".py",
   "mimetype": "text/x-python",
   "name": "python",
   "nbconvert_exporter": "python",
   "pygments_lexer": "ipython3",
   "version": "3.6.8"
  }
 },
 "nbformat": 4,
 "nbformat_minor": 2
}
