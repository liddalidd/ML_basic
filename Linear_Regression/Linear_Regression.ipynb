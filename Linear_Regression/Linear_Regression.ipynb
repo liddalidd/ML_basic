{
 "cells": [
  {
   "cell_type": "markdown",
   "metadata": {},
   "source": [
    "# Linear Regression\n",
    "#### 1.Model:\n",
    "\n",
    ">$h_w(x^i)=w_0+w_1x_1+\\cdots+w_nx_n+b$\n",
    "\n",
    ">$\\hat{y}=w^Tx_i+b=W^TX+b$\n",
    "\n",
    "\n",
    "$W^T=\\begin{bmatrix}{w_0}&{w_1}&{\\cdots}&{w_n}\\\\ \\end{bmatrix}$ \n",
    "\n",
    "$X=\\begin{bmatrix}\n",
    "{1}&{x_1^1}&{x_2^1}&{\\cdots}&{x_n^1}\\\\\n",
    "{1}&{x_1^2}&{x_2^2}&{\\cdots}&{x_n^2}\\\\\n",
    "{\\vdots}&{\\vdots}&{\\vdots}&{\\ddots}&{\\vdots}\\\\\n",
    "{1}&{x_1^n}&{x_2^n}&{\\cdots}&{x_n^n}\\\\\n",
    "\\end{bmatrix}$  \n",
    "$XW+b=h_w(x^i)$\n",
    " \n",
    "#### 2. Cost function:\n",
    "$J_{(w,b)}=\\frac{1} {M}\\sum_{i=1}^m(h_w(x^i)-y^i)^2$\n",
    "- the normal equation(close-form solution) : $w=(X^TX)^{-1}X^Ty$  \n",
    "- **gradient descent**:  \n",
    "$ \\frac{\\partial J}{\\partial w_j} = \\frac{2}{m}\\sum_{i=1}^m \\Big( \\hat{y}^{(i)} - y^{(i)} \\Big) x^{(i)}_j$  \n",
    "$ \\frac{\\partial J}{\\partial b} = \\frac{2}{m}\\sum_{i=1}^m \\Big( \\hat{y}^{(i)} - y^{(i)} \\Big)$   \n",
    "\n",
    "The gradient containing all partial derivatives can then be computed as follows:\n",
    "\n",
    "$\\nabla_{\\boldsymbol{w}} J = \\frac{2}{m} \\boldsymbol{X}^T \\cdot \\big(\\boldsymbol{\\hat{y}} - \\boldsymbol{y} \\big)$ , \n",
    "$\\boldsymbol{w} = \\boldsymbol{w} - \\eta \\, \\nabla_w J$  \n",
    "\n",
    "$\\nabla_{\\boldsymbol{b}} J = \\frac{2}{m} \\big(\\boldsymbol{\\hat{y}} - \\boldsymbol{y} \\big)$ , $b = b - \\eta \\, \\nabla_b J$  \n",
    "\n",
    "**Adagrad**: (need large learning rate)  \n",
    "\n",
    "$\\theta_{t+1,i}=\\theta_{t,i}-\\frac {\\eta} {\\sqrt{G_{t,ii}+\\epsilon}} g_{t,i}$  ,  $G_{t,ii}\\in \\mathbb{R}^{d*d}$ is a diagonal matrix where each diagonal element i,i is the sum of the squares of the gradients w.r.t. $\\theta_i$ up to time step t,$\\epsilon$ usually on the order of $10^{-8}$\n",
    "\n",
    "#### 3. Data:\n",
    "predict PM 2.5\n",
    ">[train.csv](https://github.com/liddalidd/ML_basic/blob/master/Linear_Regression/train.csv)   \n",
<<<<<<< HEAD
    ">[test.csv](https://github.com/liddalidd/ML_basic/blob/master/Linear_Regression/test.csv) "
=======
    ">[test.csv](https://github.com/liddalidd/ML_basic/blob/master/Linear_Regression/test.csv)  "
>>>>>>> 50cc37cf3c397f224831a1aef668b8319189445f
   ]
  },
  {
   "cell_type": "code",
   "execution_count": 1,
   "metadata": {},
   "outputs": [
    {
     "name": "stderr",
     "output_type": "stream",
     "text": [
      "D:\\Software\\Anaconda\\lib\\site-packages\\pandas\\core\\frame.py:3697: SettingWithCopyWarning: \n",
      "A value is trying to be set on a copy of a slice from a DataFrame\n",
      "\n",
      "See the caveats in the documentation: http://pandas.pydata.org/pandas-docs/stable/indexing.html#indexing-view-versus-copy\n",
      "  errors=errors)\n"
     ]
    }
   ],
   "source": [
    "import pandas as pd\n",
    "import numpy as np\n",
    "from pandas import DataFrame\n",
    "import math\n",
    "train=pd.read_csv(\"train.csv\");\n",
    "# pm=train[train[\"\"]]\n",
    "pm=train[train[\"testmaterial\"]==\"PM2.5\"]#find all PM2.5 data no.240\n",
    "pm.drop(['date','station','testmaterial'],axis=1,inplace=True)\n",
    "x=[] \n",
    "y=[]\n",
    "for i in range(15): \n",
    "    temx=pm.iloc[:,i:i+9]\n",
    "    temx.columns=np.array(range(9))\n",
    "    temy=pm.iloc[:,i+9]\n",
    "    temy.columns=np.array(range(1))\n",
    "    x.append(temx)\n",
    "    y.append(temy)\n",
    "  \n",
    "\n",
    "x=pd.concat(x)#3600x9,3600=240x15,此时x为dataframe\n",
    "y=pd.concat(y)#3600x1 ,y为serise\n",
    "x=np.array(x,float)\n",
    "y=np.array(y,float)\n",
    "np.save(\"x.npy\",x)\n",
    "np.save(\"y.npy\",y)  "
   ]
  },
  {
   "cell_type": "code",
   "execution_count": 2,
   "metadata": {},
   "outputs": [
    {
     "name": "stdout",
     "output_type": "stream",
     "text": [
      "47.806392017782564\n"
     ]
    }
   ],
   "source": [
    "x=np.load(\"x.npy\")\n",
    "y=np.load(\"y.npy\")\n",
    "#adding baias\n",
    "x = np.concatenate((np.ones((x.shape[0],1)),x), axis=1)#x.shape 3600*10\n",
    "\n",
    "m=x.shape[0]\n",
    "\n",
    "#init y_pred=xw+b\n",
    "\n",
    "l_rate = 0.00005 \n",
    "repeat = 500\n",
    "\n",
    "# costs_ada=[]\n",
    "# w_ada = np.zeros(len(x[0]))#10*1\n",
    "# s_grad=np.zeros(len(x[0]))\n",
    "\n",
    "# # train Adagrad\n",
    "# for i in range(repeat):\n",
    "#     tem=np.dot(x,w_ada)\n",
    "#     loss=tem-y    \n",
    "#     cost=(1/m)*np.sum((loss**2))\n",
    "#     costs_ada.append(cost)\n",
    "#     grad=np.dot(x.T,loss)\n",
    "#     s_grad+=grad**2\n",
    "#     ada=(np.sqrt(s_grad)+1e-8)\n",
    "#     w_ada=w_ada-l_rate*grad/ada\n",
    "\n",
    "costs_gd=[]\n",
    "b=0\n",
    "w_gd = np.zeros(len(x[0])) \n",
    "# #train GD\n",
    "for i in range(repeat):\n",
    "    y_pred=np.dot(x,w_gd)+b \n",
    "    \n",
    "    cost=(1/m)*np.sum(((y_pred-y)**2))\n",
    "    costs_gd.append(cost)\n",
    "    d_w=(2/m)*np.dot(x.T,(y_pred-y))\n",
    "    d_b=(1/m)*np.sum(y_pred-y)\n",
    "    w_gd=w_gd-l_rate*d_w\n",
    "    b=b-l_rate*d_b\n",
    "\n",
    "\n",
    "# costs_r=[]    \n",
    "# b_r=np.random.rand()\n",
    "# w_r=np.random.normal(size=(len(x[0]),1))    \n",
    "# # random w and b\n",
    "# for i in range(repeat):\n",
    "#     y_pred=np.dot(x,w_r)+b_r\n",
    "#     cost=(1/m)*np.sum(((y_pred-y)**2))\n",
    "#     costs_r.append(cost)\n",
    "#     d_w=(2/m)*np.dot(x.T,(y_pred-y))\n",
    "#     d_b=(1/m)*np.sum(y_pred-y)\n",
    "#     w_r=w_r-l_rate*d_w\n",
    "#     b_r=b_r-l_rate*d_b     \n",
    "    \n",
    "np.save(\"model.npy\",w_gd)\n",
    "# print(costs_ada[-1])\n",
    "print(costs_gd[-1])\n",
    "# print(costs_r[-1])"
   ]
  },
  {
   "cell_type": "code",
   "execution_count": 5,
   "metadata": {
    "scrolled": true
   },
   "outputs": [
    {
     "data": {
      "image/png": "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\n",
      "text/plain": [
       "<Figure size 720x432 with 1 Axes>"
      ]
     },
     "metadata": {
      "needs_background": "light"
     },
     "output_type": "display_data"
    }
   ],
   "source": [
    "import matplotlib.pyplot as plt\n",
    "\n",
    "fig = plt.figure(figsize=(10,6))\n",
    "# plt.plot(np.arange(500), costs_r) #blue\n",
    "plt.plot(np.arange(500), costs_gd)  #orange\n",
    "plt.title(\"Dataset\")\n",
    "plt.xlabel(\"times\")\n",
    "plt.ylabel(\"costs\")\n",
    "plt.show()"
   ]
  },
  {
   "cell_type": "code",
   "execution_count": 6,
   "metadata": {},
   "outputs": [
    {
     "name": "stdout",
     "output_type": "stream",
     "text": [
      "[ 27.99743776  62.41803809  20.0403871   29.97054348  10.39048509\n",
      "  32.25807388  40.5619869   15.1110717   48.84119652  33.56749696\n",
      "  39.14504187  59.25202464  40.46933908  37.29770328  31.52810312\n",
      "  12.72604601  54.10079733  22.98934466  16.9324816   18.52660626\n",
      "  14.20172325  24.91040666  39.72479365  12.42028204  59.98624771\n",
      "  43.86615735  28.20382008   9.14935984  29.1520129   35.38406414\n",
      "  17.4762854   11.98372516  15.73703196   9.16158265  18.3688489\n",
      "  39.71355639  22.03278763  29.29373985   4.29930426  59.44371744\n",
      "  43.5914605   19.55759955  51.0546058   18.98152615  42.50579058\n",
      "  52.95009486  65.29767716  40.67361963  49.74054379  41.15121399\n",
      "  32.21020168  24.0454158   45.27556502  27.77959483  38.18444878\n",
      "  39.73614392  26.63914924  21.7727552   38.24828228  33.63556167\n",
      "  12.63520798  25.94670431  30.78676782  54.08047891  50.5924711\n",
      "  27.98275258  42.03981558  55.17964962  29.18578176  41.73883826\n",
      "  66.06197001  55.20862804  46.07178512  10.29170393  12.37513056\n",
      "  38.36442008  62.53025998   2.81526376  50.15646323  41.17650856\n",
      "   6.8819609   20.34831113   7.89321165  35.931954    10.18169178\n",
      "   3.48927342  16.15511132  10.27992424  11.36666262  23.98555461\n",
      "  28.64812155  10.53892674  12.13303752   9.12635155  34.37566094\n",
      "  14.90445718  15.2164146    6.73329187  10.03720765   3.32744373\n",
      "  12.69037659  17.21651665   9.51842926   4.07847386  14.92583626\n",
      "  34.96492716  24.73671396   9.06556572  17.3733717   17.45302308\n",
      "  11.71838774  15.21108333  12.94570448  26.16250813  24.65135523\n",
      "  13.58368772  13.29946604  41.36027533  31.24056052   0.79398923\n",
      "   2.14056324  12.60267499  15.33402284  14.62601619   4.48081835\n",
      "  27.40366678  24.57762053  11.88152234  18.83264379  15.23392788\n",
      "   3.17798379  35.48480679  16.54245351  33.4700986   24.5051019\n",
      "  22.30064356  10.8370299   21.09994923  76.38708887  66.85827313\n",
      "  28.52145949  17.08851885  25.45999078   7.47229254  16.20118247\n",
      "   9.2952158   22.75542742   7.07747821  12.16109619  16.75195287\n",
      "  48.9489461   17.61805177  22.98686869  14.15499338  15.52757014\n",
      "  27.08845654  17.75456543  33.77694077   1.39821779  16.84208821\n",
      "  41.70423451  18.67145381  51.952435    19.6411396   38.51459841\n",
      "  26.31486311  19.09125064   0.56742955  69.65181675  17.23729466\n",
      "  18.39609395  69.69725317  18.98017623   2.75195166  27.17357001\n",
      "   0.66044223   7.59388154  20.7001004   21.48466547  19.53083868\n",
      "  42.40677009  28.87704681  32.87229923  13.00036838   8.21256633\n",
      "  42.43676483  37.77349019  31.14803179  13.682692    21.93153641\n",
      "  13.86044527  13.65918177  32.94493395  83.15672652  32.40630454\n",
      "  11.8152543   61.62253516  17.71333996  19.19249995  23.63300203\n",
      " 125.11523128  27.76982411  60.24558714   4.74053496  62.75326131\n",
      "  32.53051633  17.1410478   17.94157556  62.53107426  15.64411279\n",
      "  34.57005768  74.45403276  21.28899724 128.42742608  37.90173154\n",
      "  82.79077035  89.85266782  70.68438014  30.592637    25.99544172\n",
      "  30.93625126  55.30637768  28.168637    40.39506495  48.25136168\n",
      "   6.88944641   6.53028326  69.71734041  26.39115118   0.88042663\n",
      "  37.45750567  13.67260378  20.97479423   7.49083836  13.60286454\n",
      "  21.09427643  12.70621846  -0.34703638  24.80082019   1.43147429]\n"
     ]
    }
   ],
   "source": [
    "model=np.load(\"model.npy\")\n",
    "test=pd.read_csv(\"test.csv\")\n",
    "t=test[test[\"testmaterial\"]==\"PM2.5\"]\n",
    "t.drop([\"date\",\"testmaterial\"],axis=1,inplace=True)\n",
    "\n",
    "t=np.array(t,float) #240*9\n",
    "t=np.concatenate((np.ones((t.shape[0],1)),t), axis=1)#240*10\n",
    "res=[]\n",
    "res=np.dot(t,w_gd)+b\n",
    "print(res)\n"
   ]
  }
 ],
 "metadata": {
  "kernelspec": {
   "display_name": "Python 3",
   "language": "python",
   "name": "python3"
  },
  "language_info": {
   "codemirror_mode": {
    "name": "ipython",
    "version": 3
   },
   "file_extension": ".py",
   "mimetype": "text/x-python",
   "name": "python",
   "nbconvert_exporter": "python",
   "pygments_lexer": "ipython3",
   "version": "3.7.1"
  }
 },
 "nbformat": 4,
 "nbformat_minor": 2
}
