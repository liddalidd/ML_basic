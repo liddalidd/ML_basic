{
 "cells": [
  {
   "cell_type": "code",
   "execution_count": 83,
   "metadata": {},
   "outputs": [],
   "source": [
    "import pandas as pd\n",
    "import numpy as np\n",
    "from pandas import DataFrame\n",
    "import math\n",
    "train=pd.read_csv(\"train.csv\");\n",
    "# pm=train[train[\"\"]]\n",
    "pm=train[train[\"testmaterial\"]==\"PM2.5\"]#find all PM2.5 data no.240\n",
    "pm.drop(['date','station','testmaterial'],axis=1,inplace=True)\n",
    "x=[] \n",
    "y=[]\n",
    "for i in range(15): \n",
    "    temx=pm.iloc[:,i:i+9]\n",
    "    temx.columns=np.array(range(9))\n",
    "    temy=pm.iloc[:,i+9]\n",
    "    temy.columns=np.array(range(1))\n",
    "    x.append(temx)\n",
    "    y.append(temy)\n",
    "  \n",
    "x=pd.concat(x)#3600x9,3600=240x15,此时x为dataframe\n",
    "y=pd.concat(y)#3600x1 ,y为serise\n",
    "x=np.array(x,float)\n",
    "y=np.array(y,float)\n",
    "np.save(\"x.npy\",x)\n",
    "np.save(\"y.npy\",y)  "
   ]
  },
  {
   "cell_type": "code",
   "execution_count": null,
   "metadata": {},
   "outputs": [],
   "source": [
    "x=np.load(\"x.npy\")\n",
    "y=np.load(\"y.npy\")\n",
    "#adding baias\n",
    "x = np.concatenate((np.ones((x.shape[0],1)),x), axis=1)#x.shape 3600*10\n",
    "#init y_pred=xw+b\n",
    "w = np.zeros(len(x[0]))#10*1\n",
    "\n",
    "b=0\n",
    "# costs=[]\n",
    "m=x.shape[0]\n",
    "\n",
    "l_rate = 0.001\n",
    "repeat = 10000\n",
    "\n",
    "s_grad=np.zeros(len(x[0]))\n",
    "\n",
    "# train Adagrad\n",
    "# for i in range(repeat):\n",
    "#     tem=np.dot(x,w)\n",
    "#     loss=tem-y\n",
    "#     grad=np.dot(x_t,loss)\n",
    "#     s_grad+=grad**2\n",
    "#     ada=(np.sqrt(s_grad)+1e-8)\n",
    "#     w=w-l_rate*grad/ada\n",
    "#     print(w)\n",
    "    \n",
    "# #train GD\n",
    "for i in range(repeat):\n",
    "    y_pred=np.dot(x,w)+b\n",
    "    print(\"y_pred:\",y_pred[0])\n",
    "    print(\"y :\",y[0])\n",
    "    \n",
    "    cost=(1/m)*np.sum(((y_pred-y)**2))\n",
    "    d_w=(2/m)*np.dot(x.T,(y_pred-y))\n",
    "    print(\"d_w:\",d_w[0])\n",
    "    d_b=(1/m)*np.sum(y_pred-y)\n",
    "    w=w-l_rate*d_w\n",
    "    b=b-l_rate*d_b\n",
    "    print(\"cost:\",cost)\n",
    "    print(w[0])\n",
    "    print(\"-----\")\n",
    "    \n",
    "    \n",
    "np.save(\"model.npy\",w)\n"
   ]
  },
  {
   "cell_type": "code",
   "execution_count": null,
   "metadata": {},
   "outputs": [],
   "source": [
    "model=np.load(\"model.npy\")\n",
    "test=pd.read_csv(\"test.csv\")\n",
    "t=test[test[\"testmaterial\"]==\"PM2.5\"]\n",
    "t.drop([\"date\",\"testmaterial\"],axis=1,inplace=True)\n",
    "\n",
    "t=np.array(t,float) #240*9\n",
    "t=np.concatenate((np.ones((t.shape[0],1)),t), axis=1)#240*10\n",
    "res=[]\n",
    "res=np.dot(t,w)\n",
    "print(res)\n"
   ]
  },
  {
   "cell_type": "code",
   "execution_count": null,
   "metadata": {},
   "outputs": [],
   "source": []
  }
 ],
 "metadata": {
  "kernelspec": {
   "display_name": "Python 3",
   "language": "python",
   "name": "python3"
  },
  "language_info": {
   "codemirror_mode": {
    "name": "ipython",
    "version": 3
   },
   "file_extension": ".py",
   "mimetype": "text/x-python",
   "name": "python",
   "nbconvert_exporter": "python",
   "pygments_lexer": "ipython3",
   "version": "3.7.1"
  }
 },
 "nbformat": 4,
 "nbformat_minor": 2
}
